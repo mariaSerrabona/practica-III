{
 "cells": [
  {
   "cell_type": "code",
   "execution_count": 23,
   "id": "ba686c78-8369-4df0-8a33-169b7864ec68",
   "metadata": {},
   "outputs": [],
   "source": [
    "#PRIMERA PARTE DEL EJERCICIO DE ADIVINAR\n",
    "\n",
    "import random\n",
    "num_aleatorio=random.randint(1,15)"
   ]
  },
  {
   "cell_type": "code",
   "execution_count": null,
   "id": "d0ffbe27-ee1a-44bb-967e-d0b6236b54d8",
   "metadata": {},
   "outputs": [],
   "source": [
    "numero_usuario=input(\"introduzca un número enre el 1 y el 15: \")"
   ]
  },
  {
   "cell_type": "code",
   "execution_count": null,
   "id": "5eb57016-cbc8-4280-93a8-1dbacad46b79",
   "metadata": {},
   "outputs": [],
   "source": [
    "numero_usuario=int(numero_usuario)\n",
    "\n",
    "while(num_aleatorio!=num_usuario):\n",
    "    \n",
    "    if(num_aleatorio<num_usuario):\n",
    "        print(\"el número es más pequeño\")\n",
    "        numero_usuario=input(\"introduzca un número enre el 1 y el 15: \")\n",
    "        numero_usuario=int(numero_usuario)\n",
    "        \n",
    "    elif(num_aleatorio>num_usuario):\n",
    "        print(\"el número es más grande\")\n",
    "        numero_usuario=input(\"introduzca un número enre el 1 y el 15: \")\n",
    "        numero_usuario=int(numero_usuario)\n",
    "    else:\n",
    "        print(\"enhorabuena has adivinado el número\")\n",
    "\n",
    "print(\"enhorabuena has adivinado el número\")"
   ]
  }
 ],
 "metadata": {
  "kernelspec": {
   "display_name": "Python 3",
   "language": "python",
   "name": "python3"
  },
  "language_info": {
   "codemirror_mode": {
    "name": "ipython",
    "version": 3
   },
   "file_extension": ".py",
   "mimetype": "text/x-python",
   "name": "python",
   "nbconvert_exporter": "python",
   "pygments_lexer": "ipython3",
   "version": "3.8.8"
  }
 },
 "nbformat": 4,
 "nbformat_minor": 5
}
