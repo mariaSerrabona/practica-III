{
 "cells": [
  {
   "cell_type": "markdown",
   "source": [
    "**Pseudocódigo**\n",
    "en este caso, se os pide determianr si un año es bisiesto, con las condiciones descritas en el enunciado.\n",
    "definimos un método para determinar que es bisiesto, dentro de él, establecemos las condiciones.\n",
    "Para determianr la divisibilidad entre 4, establecemos el condicional if, dentro de él decimos que si el resto entre el año y 4 es igual a cero, entonces sí es divisible.\n",
    "Como esta condición es necesaria pero no suficiente, anidamos dentro del bucle otro if, sentenciando que si también es divisible entre 100 (empleando la misma sintaxis que anteriormente) entonces nos retornará False (el año no es bisiesto). No obstante, si es divisible entre 4, entre 400, pero no entre 100, nos retornará True (el año sí es bisiesto). con el último else que aparece en el código, queremos concluir que para cualquier otro caso, el año no será bisiesto, retornando Flase.\n",
    "\n",
    "en  la siguiente celda tenemos que pedir mediante la función input un año por consola.\n",
    "después llamaremos al método creado anteoriomente, para que pueda actuar soble el año que se le pasa por parámetro\n",
    "Finalmente, imprimimos si el año es bisiesto o no lo es, mediante la función print."
   ],
   "metadata": {}
  },
  {
   "cell_type": "code",
   "execution_count": 10,
   "source": [
    "def is_leap(year):\n",
    "    leap = False\n",
    "    if(year%4==0):\n",
    "        if(year%100==0):\n",
    "            leap=False\n",
    "        if(year%400==0):\n",
    "            leap=True\n",
    "    else:\n",
    "        leap=False\n",
    "    return leap"
   ],
   "outputs": [],
   "metadata": {}
  },
  {
   "cell_type": "code",
   "execution_count": 11,
   "source": [
    "\n",
    "year = int(input())\n",
    "is_leap(year)\n",
    "print(is_leap(year))"
   ],
   "outputs": [
    {
     "output_type": "stream",
     "name": "stdout",
     "text": [
      " 1800\n"
     ]
    },
    {
     "output_type": "stream",
     "name": "stdout",
     "text": [
      "False\n"
     ]
    }
   ],
   "metadata": {}
  },
  {
   "cell_type": "code",
   "execution_count": null,
   "source": [],
   "outputs": [],
   "metadata": {}
  }
 ],
 "metadata": {
  "kernelspec": {
   "display_name": "Python 3",
   "language": "python",
   "name": "python3"
  },
  "language_info": {
   "codemirror_mode": {
    "name": "ipython",
    "version": 3
   },
   "file_extension": ".py",
   "mimetype": "text/x-python",
   "name": "python",
   "nbconvert_exporter": "python",
   "pygments_lexer": "ipython3",
   "version": "3.8.8"
  }
 },
 "nbformat": 4,
 "nbformat_minor": 5
}