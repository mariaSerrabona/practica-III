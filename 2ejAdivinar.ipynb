{
 "cells": [
  {
   "cell_type": "code",
   "execution_count": 1,
   "id": "e3de95d5-b5dc-489d-86d3-f8188acc5fab",
   "metadata": {},
   "outputs": [],
   "source": [
    "import random\n",
    "num_aleatorio=random.randint(1,300)"
   ]
  },
  {
   "cell_type": "code",
   "execution_count": 2,
   "id": "914983d6-d354-44b1-93e5-00d6e8bd25a0",
   "metadata": {},
   "outputs": [
    {
     "name": "stdin",
     "output_type": "stream",
     "text": [
      "Introduzca un número:  150\n"
     ]
    },
    {
     "name": "stdout",
     "output_type": "stream",
     "text": [
      "El número es más bajo\n"
     ]
    },
    {
     "name": "stdin",
     "output_type": "stream",
     "text": [
      "Introduzca un número:  75\n"
     ]
    },
    {
     "name": "stdout",
     "output_type": "stream",
     "text": [
      "El número es más bajo\n"
     ]
    },
    {
     "name": "stdin",
     "output_type": "stream",
     "text": [
      "Introduzca un número:  40\n"
     ]
    },
    {
     "name": "stdout",
     "output_type": "stream",
     "text": [
      "El número es más alto\n"
     ]
    },
    {
     "name": "stdin",
     "output_type": "stream",
     "text": [
      "Introduzca un número:  50\n"
     ]
    },
    {
     "name": "stdout",
     "output_type": "stream",
     "text": [
      "El número es más bajo\n"
     ]
    },
    {
     "name": "stdin",
     "output_type": "stream",
     "text": [
      "Introduzca un número:  45\n"
     ]
    },
    {
     "name": "stdout",
     "output_type": "stream",
     "text": [
      "El número es más alto\n"
     ]
    },
    {
     "name": "stdin",
     "output_type": "stream",
     "text": [
      "Introduzca un número:  47\n"
     ]
    },
    {
     "name": "stdout",
     "output_type": "stream",
     "text": [
      "El número es más bajo\n"
     ]
    },
    {
     "name": "stdin",
     "output_type": "stream",
     "text": [
      "Introduzca un número:  46\n"
     ]
    },
    {
     "name": "stdout",
     "output_type": "stream",
     "text": [
      "Enhorabuena has adivinado el número\n"
     ]
    }
   ],
   "source": [
    "num_intentos=0\n",
    "num_usuario=0\n",
    "\n",
    "while num_aleatorio != num_usuario and num_intentos<9:\n",
    "    num_intentos=num_intentos+1\n",
    "    num_usuario=input(\"Introduzca un número: \")\n",
    "    num_usuario=int(num_usuario)\n",
    "    \n",
    "    if(num_usuario<num_aleatorio):\n",
    "        print(\"El número es más alto\")\n",
    "    elif(num_usuario>num_aleatorio):\n",
    "        print(\"El número es más bajo\")\n",
    "    else:\n",
    "        break\n",
    "\n",
    "if num_aleatorio == num_usuario:\n",
    "    print(\"Enhorabuena has adivinado el número\")"
   ]
  },
  {
   "cell_type": "code",
   "execution_count": null,
   "id": "447e9848-4dca-4e50-a10a-014615341109",
   "metadata": {},
   "outputs": [],
   "source": []
  }
 ],
 "metadata": {
  "kernelspec": {
   "display_name": "Python 3",
   "language": "python",
   "name": "python3"
  },
  "language_info": {
   "codemirror_mode": {
    "name": "ipython",
    "version": 3
   },
   "file_extension": ".py",
   "mimetype": "text/x-python",
   "name": "python",
   "nbconvert_exporter": "python",
   "pygments_lexer": "ipython3",
   "version": "3.8.8"
  }
 },
 "nbformat": 4,
 "nbformat_minor": 5
}
